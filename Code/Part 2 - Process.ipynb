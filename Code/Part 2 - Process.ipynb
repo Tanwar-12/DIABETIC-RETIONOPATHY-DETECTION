{
  "cells": [
    {
      "cell_type": "markdown",
      "metadata": {
        "id": "wXzMbOVMMPue"
      },
      "source": [
        "## Table of Contents"
      ]
    },
    {
      "cell_type": "markdown",
      "metadata": {
        "id": "D2UcdOieMPug"
      },
      "source": [
        "6. Train Validation Split\n",
        "7. Resize and save\n",
        "8. Image Pre Processing and save"
      ]
    },
    {
      "cell_type": "code",
      "execution_count": 1,
      "metadata": {
        "colab": {
          "base_uri": "https://localhost:8080/"
        },
        "id": "SZg_je2mMPui",
        "outputId": "c14847d3-7e82-4a8d-ba61-9031123b99f1"
      },
      "outputs": [
        {
          "output_type": "stream",
          "name": "stdout",
          "text": [
            "CWD is  /content\n"
          ]
        }
      ],
      "source": [
        "\n",
        "\n",
        "# Basic Libs..\n",
        "import multiprocessing\n",
        "from multiprocessing.pool import ThreadPool\n",
        "import warnings\n",
        "warnings.filterwarnings(\"ignore\")\n",
        "import pandas as pd\n",
        "import numpy as np\n",
        "from tqdm import tqdm,tqdm_notebook\n",
        "from prettytable import PrettyTable\n",
        "import pickle\n",
        "import os\n",
        "print('CWD is ',os.getcwd())\n",
        "\n",
        "# Vis Libs..\n",
        "from sklearn.manifold import TSNE\n",
        "import seaborn as sns\n",
        "import matplotlib.pyplot as plt\n",
        "%matplotlib inline\n",
        "plt.rcParams[\"axes.grid\"] = False\n",
        "\n",
        "# Image Libs.\n",
        "from PIL import Image\n",
        "import cv2\n",
        "\n",
        "# sklearn libs..\n",
        "from sklearn.model_selection import train_test_split\n",
        "\n",
        "# DL Libs..\n",
        "import keras\n",
        "from keras import applications\n",
        "from keras.preprocessing.image import ImageDataGenerator,img_to_array,array_to_img,load_img\n",
        "from keras import optimizers,Model,Sequential\n",
        "from keras.layers import Input,GlobalAveragePooling2D,Dropout,Dense,Activation\n",
        "from keras.callbacks import EarlyStopping,ReduceLROnPlateau"
      ]
    },
    {
      "cell_type": "markdown",
      "metadata": {
        "id": "ycT8Sy5dMPur"
      },
      "source": [
        "###  **6. Train Validation Split**"
      ]
    },
    {
      "cell_type": "code",
      "execution_count": null,
      "metadata": {
        "id": "L702wDAxMPut"
      },
      "outputs": [],
      "source": [
        "'''\n",
        "This function reads data from the respective train and test directories\n",
        "'''\n",
        "\n",
        "def load_data():\n",
        "    train = pd.read_csv('train.csv')\n",
        "    test = pd.read_csv('test.csv')\n",
        "\n",
        "    train_dir = os.path.join('./','train_images/')\n",
        "    test_dir = os.path.join('./','test_images/')\n",
        "\n",
        "    train['file_path'] = train['id_code'].map(lambda x: os.path.join(train_dir,'{}.png'.format(x)))\n",
        "    test['file_path'] = test['id_code'].map(lambda x: os.path.join(test_dir,'{}.png'.format(x)))\n",
        "\n",
        "    train['file_name'] = train[\"id_code\"].apply(lambda x: x + \".png\")\n",
        "    test['file_name'] = test[\"id_code\"].apply(lambda x: x + \".png\")\n",
        "\n",
        "    train['diagnosis'] = train['diagnosis'].astype(str)\n",
        "\n",
        "    return train,test"
      ]
    },
    {
      "cell_type": "code",
      "execution_count": null,
      "metadata": {
        "id": "6CRuvC3YMPuw",
        "outputId": "8a925139-1ce5-42e1-d979-9cab4e93934b"
      },
      "outputs": [
        {
          "name": "stdout",
          "output_type": "stream",
          "text": [
            "(3662, 4) (1928, 3) \n",
            "\n"
          ]
        },
        {
          "data": {
            "text/html": [
              "<div>\n",
              "<style scoped>\n",
              "    .dataframe tbody tr th:only-of-type {\n",
              "        vertical-align: middle;\n",
              "    }\n",
              "\n",
              "    .dataframe tbody tr th {\n",
              "        vertical-align: top;\n",
              "    }\n",
              "\n",
              "    .dataframe thead th {\n",
              "        text-align: right;\n",
              "    }\n",
              "</style>\n",
              "<table border=\"1\" class=\"dataframe\">\n",
              "  <thead>\n",
              "    <tr style=\"text-align: right;\">\n",
              "      <th></th>\n",
              "      <th>id_code</th>\n",
              "      <th>diagnosis</th>\n",
              "      <th>file_path</th>\n",
              "      <th>file_name</th>\n",
              "    </tr>\n",
              "  </thead>\n",
              "  <tbody>\n",
              "    <tr>\n",
              "      <th>0</th>\n",
              "      <td>000c1434d8d7</td>\n",
              "      <td>2</td>\n",
              "      <td>./train_images/000c1434d8d7.png</td>\n",
              "      <td>000c1434d8d7.png</td>\n",
              "    </tr>\n",
              "    <tr>\n",
              "      <th>1</th>\n",
              "      <td>001639a390f0</td>\n",
              "      <td>4</td>\n",
              "      <td>./train_images/001639a390f0.png</td>\n",
              "      <td>001639a390f0.png</td>\n",
              "    </tr>\n",
              "    <tr>\n",
              "      <th>2</th>\n",
              "      <td>0024cdab0c1e</td>\n",
              "      <td>1</td>\n",
              "      <td>./train_images/0024cdab0c1e.png</td>\n",
              "      <td>0024cdab0c1e.png</td>\n",
              "    </tr>\n",
              "    <tr>\n",
              "      <th>3</th>\n",
              "      <td>002c21358ce6</td>\n",
              "      <td>0</td>\n",
              "      <td>./train_images/002c21358ce6.png</td>\n",
              "      <td>002c21358ce6.png</td>\n",
              "    </tr>\n",
              "    <tr>\n",
              "      <th>4</th>\n",
              "      <td>005b95c28852</td>\n",
              "      <td>0</td>\n",
              "      <td>./train_images/005b95c28852.png</td>\n",
              "      <td>005b95c28852.png</td>\n",
              "    </tr>\n",
              "    <tr>\n",
              "      <th>5</th>\n",
              "      <td>0083ee8054ee</td>\n",
              "      <td>4</td>\n",
              "      <td>./train_images/0083ee8054ee.png</td>\n",
              "      <td>0083ee8054ee.png</td>\n",
              "    </tr>\n",
              "  </tbody>\n",
              "</table>\n",
              "</div>"
            ],
            "text/plain": [
              "        id_code diagnosis                        file_path         file_name\n",
              "0  000c1434d8d7         2  ./train_images/000c1434d8d7.png  000c1434d8d7.png\n",
              "1  001639a390f0         4  ./train_images/001639a390f0.png  001639a390f0.png\n",
              "2  0024cdab0c1e         1  ./train_images/0024cdab0c1e.png  0024cdab0c1e.png\n",
              "3  002c21358ce6         0  ./train_images/002c21358ce6.png  002c21358ce6.png\n",
              "4  005b95c28852         0  ./train_images/005b95c28852.png  005b95c28852.png\n",
              "5  0083ee8054ee         4  ./train_images/0083ee8054ee.png  0083ee8054ee.png"
            ]
          },
          "execution_count": 21,
          "metadata": {},
          "output_type": "execute_result"
        }
      ],
      "source": [
        "df_train,df_test = load_data()\n",
        "print(df_train.shape,df_test.shape,'\\n')\n",
        "df_train.head(6)"
      ]
    },
    {
      "cell_type": "code",
      "execution_count": null,
      "metadata": {
        "id": "qUzTEaMxMPuy",
        "outputId": "e375141b-026c-4304-b78a-04299d4a223e"
      },
      "outputs": [
        {
          "name": "stdout",
          "output_type": "stream",
          "text": [
            "(2929, 4) (733, 4)\n"
          ]
        }
      ],
      "source": [
        "df_train_train,df_train_valid = train_test_split(df_train,test_size = 0.2)\n",
        "print(df_train_train.shape,df_train_valid.shape)"
      ]
    },
    {
      "cell_type": "code",
      "execution_count": null,
      "metadata": {
        "id": "QwMlGdUWMPu0"
      },
      "outputs": [],
      "source": [
        "'''This Function Plots a Bar plot of output Classes Distribution'''\n",
        "\n",
        "def plot_classes(df,title):\n",
        "    df_group = pd.DataFrame(df.groupby('diagnosis').agg('size').reset_index())\n",
        "    df_group.columns = ['diagnosis','count']\n",
        "\n",
        "    sns.set(rc={'figure.figsize':(10,5)}, style = 'whitegrid')\n",
        "    sns.barplot(x = 'diagnosis',y='count',data = df_group,palette = \"Blues_d\")\n",
        "    plt.title('Output Class Distribution ' + str(title))\n",
        "    plt.show()"
      ]
    },
    {
      "cell_type": "code",
      "execution_count": null,
      "metadata": {
        "id": "73DpXKtUMPu1",
        "outputId": "eb7ce33b-a0d9-4211-bee9-e25b70f4d4c4"
      },
      "outputs": [
        {
          "data": {
            "image/png": "[encoded data removed]",
            "text/plain": [
              "<Figure size 720x360 with 1 Axes>"
            ]
          },
          "metadata": {},
          "output_type": "display_data"
        }
      ],
      "source": [
        "plot_classes(df_train_train,\"TRAIN DATA\")"
      ]
    },
    {
      "cell_type": "code",
      "execution_count": null,
      "metadata": {
        "id": "KvlUSmLUMPu2",
        "outputId": "d51a8261-1903-4be2-c9d8-e037d158eb5c"
      },
      "outputs": [
        {
          "data": {
            "image/png": "[encoded data removed]",
            "text/plain": [
              "<Figure size 720x360 with 1 Axes>"
            ]
          },
          "metadata": {},
          "output_type": "display_data"
        }
      ],
      "source": [
        "plot_classes(df_train_valid,'VALIDATION DATA')"
      ]
    },
    {
      "cell_type": "code",
      "execution_count": null,
      "metadata": {
        "id": "wZoILrfPMPu4"
      },
      "outputs": [],
      "source": [
        "'''\n",
        "file = open('df_train_train', 'wb')\n",
        "pickle.dump(df_train_train, file)\n",
        "file.close()\n",
        "\n",
        "file = open('df_train_test', 'wb')\n",
        "pickle.dump(df_train_test, file)\n",
        "file.close()\n",
        "'''"
      ]
    },
    {
      "cell_type": "code",
      "execution_count": null,
      "metadata": {
        "id": "G43i9JoZMPu5"
      },
      "outputs": [],
      "source": [
        "file = open('df_train_train', 'rb')\n",
        "df_train_train = pickle.load(file)\n",
        "file.close()\n",
        "\n",
        "file = open('df_train_test', 'rb')\n",
        "df_train_test = pickle.load(file)\n",
        "file.close()"
      ]
    },
    {
      "cell_type": "code",
      "execution_count": null,
      "metadata": {
        "id": "IajG_6wmMPu6",
        "outputId": "19569af6-b6ad-4b97-a072-03fa457d454e"
      },
      "outputs": [
        {
          "name": "stdout",
          "output_type": "stream",
          "text": [
            "(2929, 4) (733, 4)\n",
            "2929 733\n"
          ]
        }
      ],
      "source": [
        "print(df_train_train.shape,df_train_test.shape)\n",
        "print(len(os.listdir('./train_images_resized_preprocessed')),len(os.listdir('./test_images_resized_preprocessed')))"
      ]
    },
    {
      "cell_type": "markdown",
      "metadata": {
        "id": "Zp7BhqnhMPu8"
      },
      "source": [
        "### **7. Resize and Save**"
      ]
    },
    {
      "cell_type": "code",
      "execution_count": null,
      "metadata": {
        "id": "PHKFVCUJMPu-"
      },
      "outputs": [],
      "source": [
        "IMG_SIZE  = 512"
      ]
    },
    {
      "cell_type": "code",
      "execution_count": null,
      "metadata": {
        "id": "lfRgNYymMPu_"
      },
      "outputs": [],
      "source": [
        "'''Function loads an image from Folder , Resizes and saves in another directory '''\n",
        "\n",
        "def image_resize_save(file):\n",
        "    input_filepath = os.path.join('./','train_images','{}.png'.format(file))\n",
        "    output_filepath = os.path.join('./','valid_images_resized','{}.png'.format(file))\n",
        "    img = cv2.imread(input_filepath)\n",
        "    cv2.imwrite(output_filepath, cv2.resize(img, (IMG_SIZE,IMG_SIZE)))\n",
        "#image_resize_save(df_train.id_code.iloc[201])"
      ]
    },
    {
      "cell_type": "code",
      "execution_count": null,
      "metadata": {
        "id": "DLTPxI7XMPvA"
      },
      "outputs": [],
      "source": [
        "'''This Function uses Multi processing for faster saving of images into folder'''\n",
        "\n",
        "def multiprocess_image_downloader(process:int, imgs:list):\n",
        "    \"\"\"\n",
        "    Inputs:\n",
        "        process: (int) number of process to run\n",
        "        imgs:(list) list of images\n",
        "    \"\"\"\n",
        "    print(f'MESSAGE: Running {process} process')\n",
        "    results = ThreadPool(process).map(image_resize_save, imgs)\n",
        "    return results"
      ]
    },
    {
      "cell_type": "code",
      "execution_count": null,
      "metadata": {
        "id": "osUyB6_qMPvB"
      },
      "outputs": [],
      "source": [
        "# Use 6 cores\n",
        "multiprocess_image_downloader(6, list(df_train_valid.id_code.values))"
      ]
    },
    {
      "cell_type": "markdown",
      "metadata": {
        "id": "_-GYpRMtMPvD"
      },
      "source": [
        "**Summary** :  - Using Multiprocessing (6 cores), we managed to resize and save images within 10 minutes, and reducing IMG_SIZE to 512, thereby reducing disk-space from 20 GB (earlier) to 1 GB (after resizing). We shall load data into colab and start training models"
      ]
    },
    {
      "cell_type": "markdown",
      "metadata": {
        "id": "63YdlCO0MPvE"
      },
      "source": [
        "###   **8. Image Pre Processing and Save**"
      ]
    },
    {
      "cell_type": "code",
      "execution_count": null,
      "metadata": {
        "id": "iAL3BopPMPvG"
      },
      "outputs": [],
      "source": [
        "def crop_image_from_gray(img,tol=7):\n",
        "    if img.ndim ==2:\n",
        "        mask = img>tol\n",
        "        return img[np.ix_(mask.any(1),mask.any(0))]\n",
        "    elif img.ndim==3:\n",
        "        gray_img = cv2.cvtColor(img, cv2.COLOR_RGB2GRAY)\n",
        "        mask = gray_img>tol\n",
        "\n",
        "        check_shape = img[:,:,0][np.ix_(mask.any(1),mask.any(0))].shape[0]\n",
        "        if (check_shape == 0): # image is too dark so that we crop out everything,\n",
        "            return img # return original image\n",
        "        else:\n",
        "            img1=img[:,:,0][np.ix_(mask.any(1),mask.any(0))]\n",
        "            img2=img[:,:,1][np.ix_(mask.any(1),mask.any(0))]\n",
        "            img3=img[:,:,2][np.ix_(mask.any(1),mask.any(0))]\n",
        "    #         print(img1.shape,img2.shape,img3.shape)\n",
        "            img = np.stack([img1,img2,img3],axis=-1)\n",
        "    #         print(img.shape)\n",
        "        return img\n",
        "\n",
        "def circle_crop(img, sigmaX = 30):\n",
        "    \"\"\"\n",
        "    Create circular crop around image centre\n",
        "    \"\"\"\n",
        "    img = crop_image_from_gray(img)\n",
        "    img = cv2.cvtColor(img, cv2.COLOR_BGR2RGB)\n",
        "\n",
        "    height, width, depth = img.shape\n",
        "\n",
        "    x = int(width/2)\n",
        "    y = int(height/2)\n",
        "    r = np.amin((x,y))\n",
        "\n",
        "    circle_img = np.zeros((height, width), np.uint8)\n",
        "    cv2.circle(circle_img, (x,y), int(r), 1, thickness=-1)\n",
        "    img = cv2.bitwise_and(img, img, mask=circle_img)\n",
        "    img = crop_image_from_gray(img)\n",
        "    img=cv2.addWeighted(img,4, cv2.GaussianBlur( img , (0,0) , sigmaX) ,-4 ,128)\n",
        "    return img\n",
        "\n",
        "def preprocess_image(file):\n",
        "    input_filepath = os.path.join('./','test_images_resized','{}.png'.format(file))\n",
        "    output_filepath = os.path.join('./','test_images_resized_preprocessed','{}.png'.format(file))\n",
        "\n",
        "    img = cv2.imread(input_filepath)\n",
        "    img = circle_crop(img)\n",
        "    cv2.imwrite(output_filepath, cv2.resize(img, (IMG_SIZE,IMG_SIZE)))"
      ]
    },
    {
      "cell_type": "code",
      "execution_count": null,
      "metadata": {
        "id": "NZ2LUhLaMPvH"
      },
      "outputs": [],
      "source": [
        "'''This Function uses Multi processing for faster saving of images into folder'''\n",
        "\n",
        "def multiprocess_image_processor(process:int, imgs:list):\n",
        "    \"\"\"\n",
        "    Inputs:\n",
        "        process: (int) number of process to run\n",
        "        imgs:(list) list of images\n",
        "    \"\"\"\n",
        "    print(f'MESSAGE: Running {process} process')\n",
        "    results = ThreadPool(process).map(preprocess_image, imgs)\n",
        "    return results"
      ]
    },
    {
      "cell_type": "code",
      "execution_count": null,
      "metadata": {
        "scrolled": true,
        "id": "HfiGOOUiMPvI"
      },
      "outputs": [],
      "source": [
        "# Use 6 cores\n",
        "multiprocess_image_processor(6, list(df_train_test.id_code.values))"
      ]
    }
  ],
  "metadata": {
    "kernelspec": {
      "display_name": "Python 3",
      "language": "python",
      "name": "python3"
    },
    "language_info": {
      "codemirror_mode": {
        "name": "ipython",
        "version": 3
      },
      "file_extension": ".py",
      "mimetype": "text/x-python",
      "name": "python",
      "nbconvert_exporter": "python",
      "pygments_lexer": "ipython3",
      "version": "3.6.5"
    },
    "colab": {
      "provenance": []
    }
  },
  "nbformat": 4,
  "nbformat_minor": 0
}